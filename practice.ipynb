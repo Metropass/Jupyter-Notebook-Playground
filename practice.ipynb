{
 "cells": [
  {
   "cell_type": "code",
   "execution_count": 1,
   "id": "90347ed9",
   "metadata": {},
   "outputs": [],
   "source": [
    "import numpy as np\n",
    "import pandas as pd"
   ]
  },
  {
   "cell_type": "code",
   "execution_count": 2,
   "id": "bf779a20",
   "metadata": {},
   "outputs": [],
   "source": [
    "df = pd.read_csv(r\"C:\\Users\\moho4\\Documents\\pandas-practice\\PS2-GAMEID-TITLE-MASTER.csv\", sep=';')"
   ]
  },
  {
   "cell_type": "code",
   "execution_count": 3,
   "id": "7364d35b",
   "metadata": {},
   "outputs": [],
   "source": [
    "s = ['SLUS', 'SCES']\n",
    "q = df[df['GameID'].str.contains('|'.join(s))]"
   ]
  },
  {
   "cell_type": "code",
   "execution_count": 4,
   "id": "2d41b4b7",
   "metadata": {},
   "outputs": [
    {
     "name": "stdout",
     "output_type": "stream",
     "text": [
      "           GameID                                 Name  Region  Release Date  \\\n",
      "2      SLUS-21258          .hack//G.U. Vol.1 - Rebirth     NaN           NaN   \n",
      "3      SLUS-29199          .hack//G.U. Vol.1 - Rebirth     NaN           NaN   \n",
      "10     SLUS-21488        .hack//G.U. Vol.2 - Reminisce     NaN           NaN   \n",
      "13     SLUS-21489       .hack//G.U. Vol.3 - Redemption     NaN           NaN   \n",
      "15     SCES-52237            .hack//Part 1 - Infection     NaN           NaN   \n",
      "...           ...                                  ...     ...           ...   \n",
      "13633  SLUS-20545  Zone of the Enders - The 2nd Runner     NaN           NaN   \n",
      "13636  SCES-52533                           Zoo Puzzle     NaN           NaN   \n",
      "13638  SCES-54174                              Zoocube     NaN           NaN   \n",
      "13647  SCES-53361                       zzz_unknown_05     NaN           NaN   \n",
      "13648  SCES-54147                       zzz_unknown_06     NaN           NaN   \n",
      "\n",
      "       Genre  Developer  Publisher  Players  Aspect  Scan  ...  VMC0  VMC1  \\\n",
      "2        NaN        NaN        NaN      NaN     NaN   NaN  ...   NaN   NaN   \n",
      "3        NaN        NaN        NaN      NaN     NaN   NaN  ...   NaN   NaN   \n",
      "10       NaN        NaN        NaN      NaN     NaN   NaN  ...   NaN   NaN   \n",
      "13       NaN        NaN        NaN      NaN     NaN   NaN  ...   NaN   NaN   \n",
      "15       NaN        NaN        NaN      NaN     NaN   NaN  ...   NaN   NaN   \n",
      "...      ...        ...        ...      ...     ...   ...  ...   ...   ...   \n",
      "13633    NaN        NaN        NaN      NaN     NaN   NaN  ...   NaN   NaN   \n",
      "13636    NaN        NaN        NaN      NaN     NaN   NaN  ...   NaN   NaN   \n",
      "13638    NaN        NaN        NaN      NaN     NaN   NaN  ...   NaN   NaN   \n",
      "13647    NaN        NaN        NaN      NaN     NaN   NaN  ...   NaN   NaN   \n",
      "13648    NaN        NaN        NaN      NaN     NaN   NaN  ...   NaN   NaN   \n",
      "\n",
      "       GSM  Hpos  Vpos  SkipVideo  Devices  DMA  CBT  Notes  \n",
      "2      NaN   NaN   NaN        NaN      NaN  NaN  NaN    NaN  \n",
      "3      NaN   NaN   NaN        NaN      NaN  NaN  NaN    NaN  \n",
      "10     NaN   NaN   NaN        NaN      NaN  NaN  NaN    NaN  \n",
      "13     NaN   NaN   NaN        NaN      NaN  NaN  NaN    NaN  \n",
      "15     NaN   NaN   NaN        NaN      NaN  NaN  NaN    NaN  \n",
      "...    ...   ...   ...        ...      ...  ...  ...    ...  \n",
      "13633  NaN   NaN   NaN        NaN      NaN  NaN  NaN    NaN  \n",
      "13636  NaN   NaN   NaN        NaN      NaN  NaN  NaN    NaN  \n",
      "13638  NaN   NaN   NaN        NaN      NaN  NaN  NaN    NaN  \n",
      "13647  NaN   NaN   NaN        NaN      NaN  NaN  NaN    NaN  \n",
      "13648  NaN   NaN   NaN        NaN      NaN  NaN  NaN    NaN  \n",
      "\n",
      "[4302 rows x 33 columns]\n"
     ]
    }
   ],
   "source": [
    "print(q)"
   ]
  },
  {
   "cell_type": "code",
   "execution_count": null,
   "id": "ccf24da0",
   "metadata": {},
   "outputs": [],
   "source": []
  },
  {
   "cell_type": "code",
   "execution_count": null,
   "id": "3fa93e8f",
   "metadata": {},
   "outputs": [],
   "source": []
  }
 ],
 "metadata": {
  "kernelspec": {
   "display_name": "Python 3",
   "language": "python",
   "name": "python3"
  },
  "language_info": {
   "codemirror_mode": {
    "name": "ipython",
    "version": 3
   },
   "file_extension": ".py",
   "mimetype": "text/x-python",
   "name": "python",
   "nbconvert_exporter": "python",
   "pygments_lexer": "ipython3",
   "version": "3.9.5"
  }
 },
 "nbformat": 4,
 "nbformat_minor": 5
}
